{
 "cells": [
  {
   "cell_type": "markdown",
   "metadata": {},
   "source": [
    "# Basic Text Classification with Naive Bayes\n",
    "***\n",
    "In this mini-project, we will perform text analysis using a subset of movie reviews from the rotten tomatoes database using a fundamental technique in Bayesian inference, called Naive Bayes. This mini-project is based on [Lab 10 of Harvard's CS109](https://github.com/cs109/2015lab10) class. "
   ]
  },
  {
   "cell_type": "markdown",
   "metadata": {},
   "source": [
    "# Table of Contents\n",
    "\n",
    "* [Rotten Tomatoes Dataset](#Rotten-Tomatoes-Dataset)\n",
    "    * [Explore](#Explore)\n",
    "* [The Vector Space Model and a Search Engine](#The-Vector-Space-Model-and-a-Search-Engine)\n",
    "    * [In Code](#In-Code)\n",
    "* [Naive Bayes](#Naive-Bayes)\n",
    "    * [Multinomial Naive Bayes and Other Likelihood Functions](#Multinomial-Naive-Bayes-and-Other-Likelihood-Functions)\n",
    "    * [Picking Hyperparameters for Naive Bayes and Text Maintenance](#Picking-Hyperparameters-for-Naive-Bayes-and-Text-Maintenance)\n",
    "* [Interpretation](#Interpretation)\n"
   ]
  },
  {
   "cell_type": "code",
   "execution_count": 2,
   "metadata": {
    "ExecuteTime": {
     "end_time": "2019-02-18T04:54:39.654426Z",
     "start_time": "2019-02-18T04:54:34.547812Z"
    }
   },
   "outputs": [],
   "source": [
    "%matplotlib inline\n",
    "import numpy as np\n",
    "import scipy as sp\n",
    "import matplotlib as mpl\n",
    "import matplotlib.cm as cm\n",
    "import matplotlib.pyplot as plt\n",
    "import pandas as pd\n",
    "import seaborn as sns\n",
    "from six.moves import range\n",
    "\n",
    "# Ignore  the warnings\n",
    "import warnings\n",
    "warnings.filterwarnings('always')\n",
    "warnings.filterwarnings('ignore')\n",
    "\n",
    "# Setup Pandas\n",
    "pd.set_option('display.width', 500)\n",
    "pd.set_option('display.max_columns', 100)\n",
    "pd.set_option('display.notebook_repr_html', True)\n",
    "\n",
    "# Setup Seaborn\n",
    "sns.set_style(\"whitegrid\")\n",
    "sns.set_context(\"talk\", font_scale=0.8)"
   ]
  },
  {
   "cell_type": "markdown",
   "metadata": {},
   "source": [
    "# Rotten Tomatoes Dataset"
   ]
  },
  {
   "cell_type": "code",
   "execution_count": 3,
   "metadata": {
    "ExecuteTime": {
     "end_time": "2019-02-18T04:54:39.962447Z",
     "start_time": "2019-02-18T04:54:39.654426Z"
    }
   },
   "outputs": [
    {
     "data": {
      "text/html": [
       "<div>\n",
       "<style scoped>\n",
       "    .dataframe tbody tr th:only-of-type {\n",
       "        vertical-align: middle;\n",
       "    }\n",
       "\n",
       "    .dataframe tbody tr th {\n",
       "        vertical-align: top;\n",
       "    }\n",
       "\n",
       "    .dataframe thead th {\n",
       "        text-align: right;\n",
       "    }\n",
       "</style>\n",
       "<table border=\"1\" class=\"dataframe\">\n",
       "  <thead>\n",
       "    <tr style=\"text-align: right;\">\n",
       "      <th></th>\n",
       "      <th>critic</th>\n",
       "      <th>fresh</th>\n",
       "      <th>imdb</th>\n",
       "      <th>publication</th>\n",
       "      <th>quote</th>\n",
       "      <th>review_date</th>\n",
       "      <th>rtid</th>\n",
       "      <th>title</th>\n",
       "    </tr>\n",
       "  </thead>\n",
       "  <tbody>\n",
       "    <tr>\n",
       "      <th>1</th>\n",
       "      <td>Derek Adams</td>\n",
       "      <td>fresh</td>\n",
       "      <td>114709</td>\n",
       "      <td>Time Out</td>\n",
       "      <td>So ingenious in concept, design and execution ...</td>\n",
       "      <td>2009-10-04</td>\n",
       "      <td>9559</td>\n",
       "      <td>Toy story</td>\n",
       "    </tr>\n",
       "    <tr>\n",
       "      <th>2</th>\n",
       "      <td>Richard Corliss</td>\n",
       "      <td>fresh</td>\n",
       "      <td>114709</td>\n",
       "      <td>TIME Magazine</td>\n",
       "      <td>The year's most inventive comedy.</td>\n",
       "      <td>2008-08-31</td>\n",
       "      <td>9559</td>\n",
       "      <td>Toy story</td>\n",
       "    </tr>\n",
       "    <tr>\n",
       "      <th>3</th>\n",
       "      <td>David Ansen</td>\n",
       "      <td>fresh</td>\n",
       "      <td>114709</td>\n",
       "      <td>Newsweek</td>\n",
       "      <td>A winning animated feature that has something ...</td>\n",
       "      <td>2008-08-18</td>\n",
       "      <td>9559</td>\n",
       "      <td>Toy story</td>\n",
       "    </tr>\n",
       "    <tr>\n",
       "      <th>4</th>\n",
       "      <td>Leonard Klady</td>\n",
       "      <td>fresh</td>\n",
       "      <td>114709</td>\n",
       "      <td>Variety</td>\n",
       "      <td>The film sports a provocative and appealing st...</td>\n",
       "      <td>2008-06-09</td>\n",
       "      <td>9559</td>\n",
       "      <td>Toy story</td>\n",
       "    </tr>\n",
       "    <tr>\n",
       "      <th>5</th>\n",
       "      <td>Jonathan Rosenbaum</td>\n",
       "      <td>fresh</td>\n",
       "      <td>114709</td>\n",
       "      <td>Chicago Reader</td>\n",
       "      <td>An entertaining computer-generated, hyperreali...</td>\n",
       "      <td>2008-03-10</td>\n",
       "      <td>9559</td>\n",
       "      <td>Toy story</td>\n",
       "    </tr>\n",
       "  </tbody>\n",
       "</table>\n",
       "</div>"
      ],
      "text/plain": [
       "               critic  fresh    imdb     publication                                              quote review_date  rtid      title\n",
       "1         Derek Adams  fresh  114709        Time Out  So ingenious in concept, design and execution ...  2009-10-04  9559  Toy story\n",
       "2     Richard Corliss  fresh  114709   TIME Magazine                  The year's most inventive comedy.  2008-08-31  9559  Toy story\n",
       "3         David Ansen  fresh  114709        Newsweek  A winning animated feature that has something ...  2008-08-18  9559  Toy story\n",
       "4       Leonard Klady  fresh  114709         Variety  The film sports a provocative and appealing st...  2008-06-09  9559  Toy story\n",
       "5  Jonathan Rosenbaum  fresh  114709  Chicago Reader  An entertaining computer-generated, hyperreali...  2008-03-10  9559  Toy story"
      ]
     },
     "execution_count": 3,
     "metadata": {},
     "output_type": "execute_result"
    }
   ],
   "source": [
    "critics = pd.read_csv('./data/critics.csv')\n",
    "#let's drop rows with missing quotes\n",
    "critics = critics[~critics.quote.isnull()]\n",
    "critics.head()"
   ]
  },
  {
   "cell_type": "markdown",
   "metadata": {},
   "source": [
    "## Explore"
   ]
  },
  {
   "cell_type": "code",
   "execution_count": 4,
   "metadata": {
    "ExecuteTime": {
     "end_time": "2019-02-18T04:54:39.978489Z",
     "start_time": "2019-02-18T04:54:39.965454Z"
    }
   },
   "outputs": [
    {
     "name": "stdout",
     "output_type": "stream",
     "text": [
      "Number of reviews: 15561\n",
      "Number of critics: 623\n",
      "Number of movies:  1921\n"
     ]
    }
   ],
   "source": [
    "n_reviews = len(critics)\n",
    "n_movies = critics.rtid.unique().size\n",
    "n_critics = critics.critic.unique().size\n",
    "\n",
    "\n",
    "print(\"Number of reviews: {:d}\".format(n_reviews))\n",
    "print(\"Number of critics: {:d}\".format(n_critics))\n",
    "print(\"Number of movies:  {:d}\".format(n_movies))"
   ]
  },
  {
   "cell_type": "code",
   "execution_count": 5,
   "metadata": {
    "ExecuteTime": {
     "end_time": "2019-02-18T04:54:40.214110Z",
     "start_time": "2019-02-18T04:54:39.981497Z"
    }
   },
   "outputs": [
    {
     "data": {
      "image/png": "[encoded data removed]",
      "text/plain": [
       "<Figure size 432x288 with 1 Axes>"
      ]
     },
     "metadata": {
      "needs_background": "light"
     },
     "output_type": "display_data"
    }
   ],
   "source": [
    "df = critics.copy()\n",
    "df['fresh'] = df.fresh == 'fresh'\n",
    "grp = df.groupby('critic')\n",
    "counts = grp.critic.count()  # number of reviews by each critic\n",
    "means = grp.fresh.mean()     # average freshness for each critic\n",
    "\n",
    "means[counts > 100].hist(bins=10, edgecolor='w', lw=1)\n",
    "plt.xlabel(\"Average Rating per critic\")\n",
    "plt.ylabel(\"Number of Critics\")\n",
    "plt.yticks([0, 2, 4, 6, 8, 10]);"
   ]
  },
  {
   "cell_type": "markdown",
   "metadata": {},
   "source": [
    "**Observations**  \n",
    "From the above histogram, the distribution appears right leaning. More critics provide an above average rating, i.e., they rate more movies 'fresh' instead of 'rotten'. One possible explanation a good movie tends to draw more critic review. As a result, the obtained data contains more 'fresh' ratings than a 'rotten' movie. \n"
   ]
  },
  {
   "cell_type": "markdown",
   "metadata": {},
   "source": [
    "# The Vector Space Model and a Search Engine"
   ]
  },
  {
   "cell_type": "markdown",
   "metadata": {},
   "source": [
    "All the diagrams here are snipped from [*Introduction to Information Retrieval* by Manning et. al.]( http://nlp.stanford.edu/IR-book/) which is a great resource on text processing. For additional information on text mining and natural language processing, see [*Foundations of Statistical Natural Language Processing* by Manning and Schutze](http://nlp.stanford.edu/fsnlp/).\n",
    "\n",
    "Also check out Python packages [`nltk`](http://www.nltk.org/), [`spaCy`](https://spacy.io/), [`pattern`](http://www.clips.ua.ac.be/pattern), and their associated resources. Also see [`word2vec`](https://en.wikipedia.org/wiki/Word2vec).\n",
    "\n",
    "Let us define the vector derived from document $d$ by $\\bar V(d)$. What does this mean? Each document is treated as a vector containing information about the words contained in it. Each vector has the same length and each entry \"slot\" in the vector contains some kind of data about the words that appear in the document such as presence/absence (1/0), count (an integer) or some other statistic. Each vector has the same length because each document shared the same vocabulary across the full collection of documents -- this collection is called a *corpus*.\n",
    "\n",
    "To define the vocabulary, we take a union of all words we have seen in all documents. We then just associate an array index with them. So \"hello\" may be at index 5 and \"world\" at index 99.\n",
    "\n",
    "Suppose we have the following corpus:\n",
    "\n",
    "`A Fox one day spied a beautiful bunch of ripe grapes hanging from a vine trained along the branches of a tree. The grapes seemed ready to burst with juice, and the Fox's mouth watered as he gazed longingly at them.`\n",
    "\n",
    "Suppose we treat each sentence as a document $d$. The vocabulary (often called the *lexicon*) is the following:\n",
    "\n",
    "$V = \\left\\{\\right.$ `a, along, and, as, at, beautiful, branches, bunch, burst, day, fox, fox's, from, gazed, grapes, hanging, he, juice, longingly, mouth, of, one, ready, ripe, seemed, spied, the, them, to, trained, tree, vine, watered, with`$\\left.\\right\\}$\n",
    "\n",
    "Then the document\n",
    "\n",
    "`A Fox one day spied a beautiful bunch of ripe grapes hanging from a vine trained along the branches of a tree`\n",
    "\n",
    "may be represented as the following sparse vector of word counts:\n",
    "\n",
    "$$\\bar V(d) = \\left( 4,1,0,0,0,1,1,1,0,1,1,0,1,0,1,1,0,0,0,0,2,1,0,1,0,0,1,0,0,1,1,1,0,0 \\right)$$\n",
    "\n",
    "or more succinctly as\n",
    "\n",
    "`[(0, 4), (1, 1), (5, 1), (6, 1), (7, 1), (9, 1), (10, 1), (12, 1), (14, 1), (15, 1), (20, 2), (21, 1), (23, 1),`\n",
    "`(26, 1), (29,1), (30, 1), (31, 1)]`\n",
    "\n",
    "along with a dictionary\n",
    "\n",
    "``\n",
    "{\n",
    "    0: a, 1: along, 5: beautiful, 6: branches, 7: bunch, 9: day, 10: fox, 12: from, 14: grapes, 15: hanging, 19: mouth, 20: of, 21: one, 23: ripe, 24: seemed, 25: spied, 26: the, 29:trained, 30: tree, 31: vine, \n",
    "}\n",
    "``\n",
    "\n",
    "Then, a set of documents becomes, in the usual `sklearn` style, a sparse matrix with rows being sparse arrays representing documents and columns representing the features/words in the vocabulary.\n",
    "\n",
    "Notice that this representation loses the relative ordering of the terms in the document. That is \"cat ate rat\" and \"rat ate cat\" are the same. Thus, this representation is also known as the Bag-Of-Words representation.\n",
    "\n",
    "Here is another example, from the book quoted above, although the matrix is transposed here so that documents are columns:\n",
    "\n",
    "![novel terms](images/terms.png)\n",
    "\n",
    "Such a matrix is also catted a Term-Document Matrix. Here, the terms being indexed could be stemmed before indexing; for instance, `jealous` and `jealousy` after stemming are the same feature. One could also make use of other \"Natural Language Processing\" transformations in constructing the vocabulary. We could use Lemmatization, which reduces words to lemmas: work, working, worked would all reduce to work. We could remove \"stopwords\" from our vocabulary, such as common words like \"the\". We could look for particular parts of speech, such as adjectives. This is often done in Sentiment Analysis. And so on. It all depends on our application.\n",
    "\n",
    "From the book:\n",
    ">The standard way of quantifying the similarity between two documents $d_1$ and $d_2$  is to compute the cosine similarity of their vector representations $\\bar V(d_1)$ and $\\bar V(d_2)$:\n",
    "\n",
    "$$S_{12} = \\frac{\\bar V(d_1) \\cdot \\bar V(d_2)}{|\\bar V(d_1)| \\times |\\bar V(d_2)|}$$\n",
    "\n",
    "![Vector Space Model](images/vsm.png)\n",
    "\n",
    "\n",
    ">There is a far more compelling reason to represent documents as vectors: we can also view a query as a vector. Consider the query q = jealous gossip. This query turns into the unit vector $\\bar V(q)$ = (0, 0.707, 0.707) on the three coordinates below. \n",
    "\n",
    "![novel terms](images/terms2.png)\n",
    "\n",
    ">The key idea now: to assign to each document d a score equal to the dot product:\n",
    "\n",
    "$$\\bar V(q) \\cdot \\bar V(d)$$\n",
    "\n",
    "Then we can use this simple Vector Model as a Search engine."
   ]
  },
  {
   "cell_type": "markdown",
   "metadata": {},
   "source": [
    "## In Code"
   ]
  },
  {
   "cell_type": "code",
   "execution_count": 6,
   "metadata": {
    "ExecuteTime": {
     "end_time": "2019-02-18T04:54:40.292317Z",
     "start_time": "2019-02-18T04:54:40.217118Z"
    }
   },
   "outputs": [
    {
     "name": "stdout",
     "output_type": "stream",
     "text": [
      "Original text is\n",
      "Hop on pop\n",
      "Hop off pop\n",
      "Hop Hop hop\n",
      "\n",
      "Transformed text vector is \n",
      "[[1 0 1 1]\n",
      " [1 1 0 1]\n",
      " [3 0 0 0]]\n",
      "\n",
      "Words for each feature:\n",
      "['hop', 'off', 'on', 'pop']\n"
     ]
    }
   ],
   "source": [
    "from sklearn.feature_extraction.text import CountVectorizer\n",
    "\n",
    "text = ['Hop on pop', 'Hop off pop', 'Hop Hop hop']\n",
    "print(\"Original text is\\n{}\".format('\\n'.join(text)))\n",
    "\n",
    "vectorizer = CountVectorizer(min_df=0)\n",
    "\n",
    "# call `fit` to build the vocabulary\n",
    "vectorizer.fit(text)\n",
    "\n",
    "# call `transform` to convert text to a bag of words\n",
    "x = vectorizer.transform(text)\n",
    "\n",
    "# CountVectorizer uses a sparse array to save memory, but it's easier in this assignment to \n",
    "# convert back to a \"normal\" numpy array\n",
    "x = x.toarray()\n",
    "\n",
    "print(\"\")\n",
    "print(\"Transformed text vector is \\n{}\".format(x))\n",
    "\n",
    "# `get_feature_names` tracks which word is associated with each column of the transformed x\n",
    "print(\"\")\n",
    "print(\"Words for each feature:\")\n",
    "print(vectorizer.get_feature_names())\n",
    "\n",
    "# Notice that the bag of words treatment doesn't preserve information about the *order* of words, \n",
    "# just their frequency"
   ]
  },
  {
   "cell_type": "code",
   "execution_count": 7,
   "metadata": {
    "ExecuteTime": {
     "end_time": "2019-02-18T04:54:40.828013Z",
     "start_time": "2019-02-18T04:54:40.294322Z"
    }
   },
   "outputs": [],
   "source": [
    "def make_xy(critics, vectorizer=None):\n",
    "    #Your code here    \n",
    "    if vectorizer is None:\n",
    "        vectorizer = CountVectorizer()\n",
    "    X = vectorizer.fit_transform(critics.quote)\n",
    "    X = X.tocsc()  # some versions of sklearn return COO format\n",
    "    y = (critics.fresh == 'fresh').values.astype(np.int)\n",
    "    return X, y\n",
    "X, y = make_xy(critics)"
   ]
  },
  {
   "cell_type": "markdown",
   "metadata": {},
   "source": [
    "# Naive Bayes"
   ]
  },
  {
   "cell_type": "markdown",
   "metadata": {},
   "source": [
    "From Bayes' Theorem, we have that\n",
    "\n",
    "$$P(c \\vert f) = \\frac{P(c \\cap f)}{P(f)}$$\n",
    "\n",
    "where $c$ represents a *class* or category, and $f$ represents a feature vector, such as $\\bar V(d)$ as above. **We are computing the probability that a document (or whatever we are classifying) belongs to category *c* given the features in the document.** $P(f)$ is really just a normalization constant, so the literature usually writes Bayes' Theorem in context of Naive Bayes as\n",
    "\n",
    "$$P(c \\vert f) \\propto P(f \\vert c) P(c) $$\n",
    "\n",
    "$P(c)$ is called the *prior* and is simply the probability of seeing class $c$. But what is $P(f \\vert c)$? This is the probability that we see feature set $f$ given that this document is actually in class $c$. This is called the *likelihood* and comes from the data. One of the major assumptions of the Naive Bayes model is that the features are *conditionally independent* given the class. While the presence of a particular discriminative word may uniquely identify the document as being part of class $c$ and thus violate general feature independence, conditional independence means that the presence of that term is independent of all the other words that appear *within that class*. This is a very important distinction. Recall that if two events are independent, then:\n",
    "\n",
    "$$P(A \\cap B) = P(A) \\cdot P(B)$$\n",
    "\n",
    "Thus, conditional independence implies\n",
    "\n",
    "$$P(f \\vert c)  = \\prod_i P(f_i | c) $$\n",
    "\n",
    "where $f_i$ is an individual feature (a word in this example).\n",
    "\n",
    "To make a classification, we then choose the class $c$ such that $P(c \\vert f)$ is maximal.\n",
    "\n",
    "There is a small caveat when computing these probabilities. For [floating point underflow](http://nlp.stanford.edu/IR-book/html/htmledition/naive-bayes-text-classification-1.html) we change the product into a sum by going into log space. This is called the LogSumExp trick. So:\n",
    "\n",
    "$$\\log P(f \\vert c)  = \\sum_i \\log P(f_i \\vert c) $$\n",
    "\n",
    "There is another caveat. What if we see a term that didn't exist in the training data? This means that $P(f_i \\vert c) = 0$ for that term, and thus $P(f \\vert c)  = \\prod_i P(f_i | c) = 0$, which doesn't help us at all. Instead of using zeros, we add a small negligible value called $\\alpha$ to each count. This is called Laplace Smoothing.\n",
    "\n",
    "$$P(f_i \\vert c) = \\frac{N_{ic}+\\alpha}{N_c + \\alpha N_i}$$\n",
    "\n",
    "where $N_{ic}$ is the number of times feature $i$ was seen in class $c$, $N_c$ is the number of times class $c$ was seen and $N_i$ is the number of times feature $i$ was seen globally. $\\alpha$ is sometimes called a regularization parameter."
   ]
  },
  {
   "cell_type": "markdown",
   "metadata": {},
   "source": [
    "## Multinomial Naive Bayes and Other Likelihood Functions\n",
    "\n",
    "Since we are modeling word counts, we are using variation of Naive Bayes called Multinomial Naive Bayes. This is because the likelihood function actually takes the form of the multinomial distribution.\n",
    "\n",
    "$$P(f \\vert c) = \\frac{\\left( \\sum_i f_i \\right)!}{\\prod_i f_i!} \\prod_{f_i} P(f_i \\vert c)^{f_i} \\propto \\prod_{i} P(f_i \\vert c)$$\n",
    "\n",
    "where the nasty term out front is absorbed as a normalization constant such that probabilities sum to 1.\n",
    "\n",
    "There are many other variations of Naive Bayes, all which depend on what type of value $f_i$ takes. If $f_i$ is continuous, we may be able to use *Gaussian Naive Bayes*. First compute the mean and variance for each class $c$. Then the likelihood, $P(f \\vert c)$ is given as follows\n",
    "\n",
    "$$P(f_i = v \\vert c) = \\frac{1}{\\sqrt{2\\pi \\sigma^2_c}} e^{- \\frac{\\left( v - \\mu_c \\right)^2}{2 \\sigma^2_c}}$$"
   ]
  },
  {
   "cell_type": "markdown",
   "metadata": {},
   "source": [
    "**Implementing a Naive Bayes Classifier**\n",
    "\n",
    "<ol>\n",
    "<li> split the data set into a training and test set\n",
    "<li> Use `scikit-learn`'s `MultinomialNB()` classifier with default parameters.\n",
    "<li> Train the classifier over the training set and test on the test set\n",
    "<li> Print the accuracy scores for both the training and the test sets\n",
    "</ol>\n"
   ]
  },
  {
   "cell_type": "code",
   "execution_count": 8,
   "metadata": {
    "ExecuteTime": {
     "end_time": "2019-02-18T04:54:40.924262Z",
     "start_time": "2019-02-18T04:54:40.828013Z"
    }
   },
   "outputs": [
    {
     "name": "stdout",
     "output_type": "stream",
     "text": [
      "Accuracy Score on Train data: 0.921\n",
      "Accuracy Score on Test data: 0.778\n"
     ]
    }
   ],
   "source": [
    "from sklearn.model_selection import train_test_split\n",
    "from sklearn.naive_bayes import MultinomialNB\n",
    "\n",
    "X_train, X_test, y_train, y_test = train_test_split(X, y, test_size=0.25, random_state = 42)\n",
    "classifier = MultinomialNB()\n",
    "classifier.fit(X_train, y_train)\n",
    "y_pred = classifier.predict(X_test)\n",
    "print('Accuracy Score on Train data: {0:.3f}'.format(classifier.score(X_train, y_train)))\n",
    "print('Accuracy Score on Test data: {0:.3f}'.format(classifier.score(X_test, y_test)))"
   ]
  },
  {
   "cell_type": "markdown",
   "metadata": {},
   "source": [
    "**Observations:**  \n",
    "The classifier has a good accuracy over the training data but average accuracy for the test data. This is probably due to overfitting. "
   ]
  },
  {
   "cell_type": "markdown",
   "metadata": {},
   "source": [
    "## Picking Hyperparameters for Naive Bayes and Text Maintenance"
   ]
  },
  {
   "cell_type": "markdown",
   "metadata": {},
   "source": [
    "We need to know what value to use for $\\alpha$, and we also need to know which words to include in the vocabulary. As mentioned earlier, some words are obvious stopwords. Other words appear so infrequently that they serve as noise, and other words in addition to stopwords appear so frequently that they may also serve as noise."
   ]
  },
  {
   "cell_type": "markdown",
   "metadata": {},
   "source": [
    "### Tuning `min_df` and `max_df`\n",
    "First, let's find an appropriate value for `min_df` for the `CountVectorizer`. `min_df` can be either an integer or a float/decimal. If it is an integer, `min_df` represents the minimum number of documents a word must appear in for it to be included in the vocabulary. If it is a float, it represents the minimum *percentage* of documents a word must appear in to be included in the vocabulary. From the documentation:"
   ]
  },
  {
   "cell_type": "markdown",
   "metadata": {},
   "source": [
    ">min_df: When building the vocabulary ignore terms that have a document frequency strictly lower than the given threshold. This value is also called cut-off in the literature. If float, the parameter represents a proportion of documents, integer absolute counts. This parameter is ignored if vocabulary is not None."
   ]
  },
  {
   "cell_type": "markdown",
   "metadata": {},
   "source": [
    "**Constructing the cumulative distribution of document frequencies (df)**  \n",
    "The $x$-axis is a document count $x_i$ and the $y$-axis is the percentage of words that appear less than $x_i$ times. For example, at $x=5$, plot a point representing the percentage or number of words that appear in 5 or fewer documents.</p>"
   ]
  },
  {
   "cell_type": "code",
   "execution_count": 9,
   "metadata": {
    "ExecuteTime": {
     "end_time": "2019-02-18T04:54:41.636324Z",
     "start_time": "2019-02-18T04:54:40.927270Z"
    }
   },
   "outputs": [
    {
     "data": {
      "image/png": "[encoded data removed]",
      "text/plain": [
       "<Figure size 1152x576 with 2 Axes>"
      ]
     },
     "metadata": {
      "needs_background": "light"
     },
     "output_type": "display_data"
    }
   ],
   "source": [
    "X2, y2 = make_xy(critics)\n",
    "#freq = X2.sum(axis=0).tolist()[0]\n",
    "freq = np.array(X2.sum(axis=0))[0]\n",
    "df2 = pd.DataFrame(freq)\n",
    "df2 = df2.reset_index()\n",
    "df2.columns = ['word_index', 'frequency']\n",
    "f, axes = plt.subplots(1, 2, figsize = (16, 8))\n",
    "axes[1].hist(df2.frequency, cumulative=True, normed=True, histtype='step', bins=max(df2.frequency))\n",
    "axes[1].set(xlim=[0, 10], xlabel='Frequency', ylabel='CDF', title='CDF of Document Frequency (Zoomed)')\n",
    "axes[0].hist(df2.frequency, cumulative=True, normed=True, histtype='step', bins=max(df2.frequency))\n",
    "axes[0].set(xlim=[0, 100], xlabel='Frequency', ylabel='CDF', title='CDF of Document Frequency')\n",
    "plt.show()"
   ]
  },
  {
   "cell_type": "markdown",
   "metadata": {},
   "source": [
    "**Observations**  \n",
    "* `min_df`: Look for the point at which the curve begins climbing steeply. This may be a good value for `min_df`. From the above, there seems to be close to 60% of the words are appear in less than or equal to 2 documents. Many misspelt words will occur just once. We should ignore those. Some words specific to the movie might appear once or twice in the review.\n",
    "* If we were interested in also picking `max_df`, we would likely pick the value where the curve starts to plateau. \n",
    "* A possible good choice for (min_df, max_df) = (5, 50)"
   ]
  },
  {
   "cell_type": "markdown",
   "metadata": {},
   "source": [
    "### Tuning $\\alpha$ \n",
    "The parameter $\\alpha$ is chosen to be a small value that simply avoids having zeros in the probability computations. This value can sometimes be chosen arbitrarily with domain expertise, but we will use K-fold cross validation. In K-fold cross-validation, we divide the data into $K$ non-overlapping parts. We train on $K-1$ of the folds and test on the remaining fold. We then iterate, so that each fold serves as the test fold exactly once. The function `cv_score` performs the K-fold cross-validation algorithm for us, but we need to pass a function that measures the performance of the algorithm on each fold. "
   ]
  },
  {
   "cell_type": "code",
   "execution_count": 10,
   "metadata": {
    "ExecuteTime": {
     "end_time": "2019-02-18T04:54:41.645348Z",
     "start_time": "2019-02-18T04:54:41.639332Z"
    }
   },
   "outputs": [],
   "source": [
    "from sklearn.model_selection import KFold\n",
    "def cv_score(clf, X, y, scorefunc):\n",
    "    result = 0.\n",
    "    nfold = 5\n",
    "    for train, test in KFold(nfold).split(X): # split data into train/test groups, 5 times\n",
    "        clf.fit(X[train], y[train]) # fit the classifier, passed is as clf.\n",
    "        result += scorefunc(clf, X[test], y[test]) # evaluate score function on held-out data\n",
    "    return result / nfold # average"
   ]
  },
  {
   "cell_type": "markdown",
   "metadata": {},
   "source": [
    "We use the log-likelihood as the score here in `scorefunc`. The higher the log-likelihood, the better. Indeed, what we do in `cv_score` above is to implement the cross-validation part of `GridSearchCV`.\n",
    "\n",
    "The custom scoring function `scorefunc` allows us to use different metrics depending on the decision risk we care about (precision, accuracy, profit etc.) directly on the validation set. You will often find people using `roc_auc`, precision, recall, or `F1-score` as the scoring function."
   ]
  },
  {
   "cell_type": "code",
   "execution_count": 11,
   "metadata": {
    "ExecuteTime": {
     "end_time": "2019-02-18T04:54:41.672419Z",
     "start_time": "2019-02-18T04:54:41.648355Z"
    }
   },
   "outputs": [],
   "source": [
    "def log_likelihood(clf, x, y):\n",
    "    prob = clf.predict_log_proba(x)\n",
    "    rotten = y == 0\n",
    "    fresh = ~rotten\n",
    "    return prob[rotten, 0].sum() + prob[fresh, 1].sum()"
   ]
  },
  {
   "cell_type": "markdown",
   "metadata": {},
   "source": [
    "We'll cross-validate over the regularization parameter $\\alpha$."
   ]
  },
  {
   "cell_type": "markdown",
   "metadata": {},
   "source": [
    "Let's set up the train and test masks first, and then we can run the cross-validation procedure."
   ]
  },
  {
   "cell_type": "code",
   "execution_count": 12,
   "metadata": {
    "ExecuteTime": {
     "end_time": "2019-02-18T04:54:41.716535Z",
     "start_time": "2019-02-18T04:54:41.676435Z"
    }
   },
   "outputs": [],
   "source": [
    "from sklearn.model_selection import train_test_split\n",
    "_, itest = train_test_split(range(critics.shape[0]), train_size=0.7)\n",
    "mask = np.zeros(critics.shape[0], dtype=np.bool)\n",
    "mask[itest] = True"
   ]
  },
  {
   "cell_type": "markdown",
   "metadata": {},
   "source": [
    "**Few notes about log_likelihood function and Hyperparamter $\\alpha$**\n",
    "* The function 'log_likelihood' sums up Prob$(\\hat{x}=1|x=1)$ + Prob$(\\hat{x}=0|x=0)$ (the likelihood values). For all the movies rated 'fresh', we sum up the probability that the we classified it as 'fresh'. In other words, we give higher weightage if the Probability of it being a 1 (indicating fresh) is higher (similarly for the 'rotten' ratings too). We are optimizing the likelihood probabilities of each detection  \n",
    "* $\\alpha$ is used in $$P(f_i \\vert c) = \\frac{N_{ic}+\\alpha}{N_c + \\alpha N_i}$$ as a smoothening parameter. It is used to avoid scenarios where the test set has words out of the vocabulary (determined by the training set). If we use a high value of $\\alpha$, it would result in incorrect probability calculation and hence a low accuracy in our model.\n"
   ]
  },
  {
   "cell_type": "markdown",
   "metadata": {},
   "source": [
    "**Finding the best values of the parameter `alpha`, using the value of `min_df` obtained in the previous section. We use the `cv_score` function above with the `log_likelihood` function for scoring**"
   ]
  },
  {
   "cell_type": "code",
   "execution_count": 13,
   "metadata": {
    "ExecuteTime": {
     "end_time": "2019-02-18T04:55:30.434618Z",
     "start_time": "2019-02-18T04:54:41.719548Z"
    }
   },
   "outputs": [
    {
     "name": "stdout",
     "output_type": "stream",
     "text": [
      "min_df: 5, max_df: 0.20, alpha: 2, score: -565.71\n"
     ]
    }
   ],
   "source": [
    "# Search over alpha and min_df to find the best set of parameter\n",
    "from sklearn.naive_bayes import MultinomialNB\n",
    "\n",
    "#the grid of parameters to search over\n",
    "alphas = [1, 2, 3, 4, 5]\n",
    "min_dfs = [1, 2, 3, 4, 5]\n",
    "max_dfs = [0.2, 0.3, 0.4, 0.5]\n",
    "\n",
    "best_min_df, best_max_df, best_alpha = None, None, None\n",
    "maxscore=-np.inf\n",
    "for min_df in min_dfs:\n",
    "    for alpha in alphas:\n",
    "        for max_df in max_dfs:\n",
    "            vectorizer = CountVectorizer(min_df=min_df, max_df = max_df)       \n",
    "            Xthis, ythis = make_xy(critics, vectorizer)\n",
    "            Xtrainthis = Xthis[mask]\n",
    "            ytrainthis = ythis[mask]\n",
    "            classifier = MultinomialNB(alpha=alpha)\n",
    "            score = cv_score(classifier, Xtrainthis, ytrainthis, log_likelihood)\n",
    "            (best_min_df, best_max_df, best_alpha, maxscore) = (min_df, max_df, alpha, score) if score>maxscore else (best_min_df, best_max_df, best_alpha, maxscore)\n",
    "        \n",
    "print(\"min_df: {0:d}, max_df: {1:.2f}, alpha: {2:d}, score: {3:.2f}\".format(best_min_df, best_max_df, best_alpha, maxscore))\n"
   ]
  },
  {
   "cell_type": "markdown",
   "metadata": {},
   "source": [
    "### Modelling with the Best Parameters"
   ]
  },
  {
   "cell_type": "code",
   "execution_count": 14,
   "metadata": {
    "ExecuteTime": {
     "end_time": "2019-02-18T04:55:31.012326Z",
     "start_time": "2019-02-18T04:55:30.438587Z"
    }
   },
   "outputs": [
    {
     "name": "stdout",
     "output_type": "stream",
     "text": [
      "CountVectorizer + Naive Bayes Classifier\n",
      "------------------------------\n",
      "Accuracy on training data: 0.90\n",
      "Accuracy on test data:     0.74\n",
      "\n",
      "Confusion Matrix: \n",
      "[[2488 1741]\n",
      " [1073 5590]]\n"
     ]
    }
   ],
   "source": [
    "from sklearn.metrics import confusion_matrix\n",
    "\n",
    "# Using the best values obtained from the above hyperparameter tuning\n",
    "best_min_df, best_max_df, best_alpha = 5, 0.2, 2 # Obtained from the above hyperparameter tuning\n",
    "\n",
    "vectorizer = CountVectorizer(min_df=best_min_df, max_df=best_max_df)\n",
    "X, y = make_xy(critics, vectorizer)\n",
    "xtrain=X[mask]\n",
    "ytrain=y[mask]\n",
    "xtest=X[~mask]\n",
    "ytest=y[~mask]\n",
    "\n",
    "clf = MultinomialNB(alpha=best_alpha).fit(xtrain, ytrain)\n",
    "\n",
    "training_accuracy = clf.score(xtrain, ytrain)\n",
    "test_accuracy = clf.score(xtest, ytest)\n",
    "\n",
    "print('CountVectorizer + Naive Bayes Classifier')\n",
    "print('------------------------------')\n",
    "print(\"Accuracy on training data: {:.2f}\".format(training_accuracy))\n",
    "print(\"Accuracy on test data:     {:.2f}\".format(test_accuracy))\n",
    "print('\\nConfusion Matrix: ')\n",
    "print(confusion_matrix(ytest, clf.predict(xtest)))"
   ]
  },
  {
   "cell_type": "markdown",
   "metadata": {},
   "source": [
    "**Note:** Though this classifier has a lower accuracy for both training and test data, it is not an overfit classifier as the earlier model\n"
   ]
  },
  {
   "cell_type": "markdown",
   "metadata": {},
   "source": [
    "## Interpretation"
   ]
  },
  {
   "cell_type": "markdown",
   "metadata": {},
   "source": [
    "### What are the strongly predictive features?\n",
    "\n",
    "We use a neat trick to identify strongly predictive features (i.e. words). \n",
    "\n",
    "* first, create a data set such that each row has exactly one feature. This is represented by the identity matrix.\n",
    "* use the trained classifier to make predictions on this matrix\n",
    "* sort the rows by predicted probabilities, and pick the top and bottom $K$ rows"
   ]
  },
  {
   "cell_type": "code",
   "execution_count": 15,
   "metadata": {
    "ExecuteTime": {
     "end_time": "2019-02-18T04:55:31.290059Z",
     "start_time": "2019-02-18T04:55:31.015335Z"
    }
   },
   "outputs": [
    {
     "name": "stdout",
     "output_type": "stream",
     "text": [
      "Good words\t     P(fresh | word)\n",
      "            touching 0.92\n",
      "         masterpiece 0.91\n",
      "              brings 0.91\n",
      "              decade 0.91\n",
      "              superb 0.90\n",
      "              moving 0.90\n",
      "               witty 0.90\n",
      "          remarkable 0.89\n",
      "          delightful 0.89\n",
      "             delight 0.89\n",
      "Bad words\t     P(fresh | word)\n",
      "               tired 0.21\n",
      "             writers 0.20\n",
      "              dreary 0.20\n",
      "                dull 0.20\n",
      "           pointless 0.18\n",
      "             muddled 0.17\n",
      "          uninspired 0.17\n",
      "             problem 0.17\n",
      "                lame 0.15\n",
      "       unfortunately 0.11\n"
     ]
    }
   ],
   "source": [
    "words = np.array(vectorizer.get_feature_names())\n",
    "x = np.eye(xtest.shape[1])\n",
    "probs = clf.predict_log_proba(x)[:, 0]\n",
    "ind = np.argsort(probs)\n",
    "\n",
    "good_words = words[ind[:10]]\n",
    "bad_words = words[ind[-10:]]\n",
    "\n",
    "good_prob = probs[ind[:10]]\n",
    "bad_prob = probs[ind[-10:]]\n",
    "\n",
    "print(\"Good words\\t     P(fresh | word)\")\n",
    "for w, p in zip(good_words, good_prob):\n",
    "    print(\"{:>20}\".format(w), \"{:.2f}\".format(1 - np.exp(p)))\n",
    "    \n",
    "print(\"Bad words\\t     P(fresh | word)\")\n",
    "for w, p in zip(bad_words, bad_prob):\n",
    "    print(\"{:>20}\".format(w), \"{:.2f}\".format(1 - np.exp(p)))"
   ]
  },
  {
   "cell_type": "markdown",
   "metadata": {},
   "source": [
    "**Why does this method work? What does the probability for each row in the identity matrix represent?**  \n",
    "We are effectively selecting the 10 best features for 'fresh' class and the 10 best features for 'rotten' clas. Each row in the identity matrix represents just 1 word. The probability for each row corresponds to the likelihood that each word will be classified as a 'fresh' rated movie, i.e., if a review would have just 1 word, then how likely will that be classified as a 'fresh' by our model. \n"
   ]
  },
  {
   "cell_type": "markdown",
   "metadata": {},
   "source": [
    "The above exercise is an example of *feature selection*. There are many other feature selection methods. A list of feature selection methods available in `sklearn` is [here](http://scikit-learn.org/stable/modules/classes.html#module-sklearn.feature_selection). The most common feature selection technique for text mining is the chi-squared $\\left( \\chi^2 \\right)$ [method](http://nlp.stanford.edu/IR-book/html/htmledition/feature-selectionchi2-feature-selection-1.html)."
   ]
  },
  {
   "cell_type": "markdown",
   "metadata": {},
   "source": [
    "### Prediction Errors\n",
    "\n",
    "We can see mis-predictions as well."
   ]
  },
  {
   "cell_type": "code",
   "execution_count": 16,
   "metadata": {
    "ExecuteTime": {
     "end_time": "2019-02-18T04:55:31.893485Z",
     "start_time": "2019-02-18T04:55:31.293067Z"
    }
   },
   "outputs": [
    {
     "name": "stdout",
     "output_type": "stream",
     "text": [
      "Mis-predicted Rotten quotes\n",
      "---------------------------\n",
      "p=2.94e-04, Review:  I know that Platoon is being acclaimed for its realism, and I expect to be chastened for being a woman finding fault with a war film. But I've probably seen as much combat as most of the men saying, 'This is how war is.'\n",
      "\n",
      "p=6.86e-04, Review:  With everything to work with, director Stanley Kubrick has teamed with jumpy Jack Nicholson to destroy all that was so terrifying about Stephen King's bestseller.\n",
      "\n",
      "p=7.51e-04, Review:  It survives today only as an unusually pure example of a typical 50s art-film strategy: the attempt to make the most modern and most popular of art forms acceptable to the intelligentsia by forcing it into an arcane, antique mold.\n",
      "\n",
      "p=7.99e-04, Review:  Walken is one of the few undeniably charismatic male villains of recent years; he can generate a snakelike charm that makes his worst characters the most memorable, and here he operates on pure style.\n",
      "\n",
      "p=1.32e-03, Review:  The thought that he may yet return for further adventures with his body and Lugosi's sconce fills us with mortal terror. That is the most fearful prospect which the picture manages to convey.\n",
      "\n",
      "Mis-predicted Fresh quotes\n",
      "--------------------------\n",
      "p=0.99, Review:  What it lacks in irony and suspense, Gilbert Adler's Tales From the Crypt Presents Bordello of Blood makes up for in whimsy and cheeky self-assurance.\n",
      "\n",
      "p=1.00, Review:  Weighed down by a dull setup featuring Ralph 'Karate Kid' Macchio, the movie gets a much-needed charge from Pesci, a bundle of bandy-legged impudence as Macchio's lawyer cousin, Vincent Gambini.\n",
      "\n",
      "p=1.00, Review:  The Matrix did not bore me. It interested me so much, indeed, that I wanted to be challenged even more.\n",
      "\n",
      "p=1.00, Review:  This one is neither crude clowning nor crude prejudice, but a literate and knowingly directed satire which lands many a shrewd crack about phony Five Year Plans, collective farms, Communist jargon and pseudo-scientific gab.\n",
      "\n",
      "p=1.00, Review:  Although his movie is not entirely without substance (themes about religion, morality, and spirituality abound, as one can guess from the title character's name), it's basically designed to allow the audience to have fun.\n",
      "\n"
     ]
    }
   ],
   "source": [
    "x, y = make_xy(critics, vectorizer)\n",
    "\n",
    "prob = clf.predict_proba(x)[:, 0]\n",
    "predict = clf.predict(x)\n",
    "\n",
    "bad_rotten = np.argsort(prob[y == 0])[:5]\n",
    "bad_fresh = np.argsort(prob[y == 1])[-5:]\n",
    "\n",
    "print(\"Mis-predicted Rotten quotes\")\n",
    "print('---------------------------')\n",
    "for row in bad_rotten:\n",
    "    print('p={0:.2e}, Review: '.format((prob[y==0])[row]), critics[y == 0].quote.iloc[row])\n",
    "    print(\"\")\n",
    "\n",
    "print(\"Mis-predicted Fresh quotes\")\n",
    "print('--------------------------')\n",
    "for row in bad_fresh:\n",
    "    print('p={0:.2f}, Review: '.format((prob[y==1])[row]), critics[y == 1].quote.iloc[row])\n",
    "    print(\"\")"
   ]
  },
  {
   "cell_type": "markdown",
   "metadata": {},
   "source": [
    "### Predicting the Freshness for a New Review\n",
    "<ul>\n",
    "<li> Using the best trained classifier, let us predict the freshness of the a new review: 'This movie is not remarkable, touching, or superb in any way'\n",
    "</ul>\n"
   ]
  },
  {
   "cell_type": "code",
   "execution_count": 17,
   "metadata": {
    "ExecuteTime": {
     "end_time": "2019-02-18T04:55:31.903511Z",
     "start_time": "2019-02-18T04:55:31.896494Z"
    }
   },
   "outputs": [
    {
     "name": "stdout",
     "output_type": "stream",
     "text": [
      "Freshness probability: 0.9952\n"
     ]
    }
   ],
   "source": [
    "sentence = ['This movie is not remarkable, touching or superb in any way']\n",
    "prob_new_review = clf.predict_proba(vectorizer.transform(sentence))\n",
    "print('Freshness probability: {:.4f}'.format(prob_new_review[0, 1]))"
   ]
  },
  {
   "cell_type": "markdown",
   "metadata": {},
   "source": [
    "**Observation**  \n",
    "We can see that our classifier predicts this review as a very strong 'fresh' which clearly is not the case. This classifier classifies based on the bag of words. Besides the word 'not' (which probably doesnt play any role in classification since it can be used in positive or negative reviews), the sentence has several positive words - 'remarkable', 'touching' and 'superb'. Hence our classifier sees these 3 words and strongly predicts it as a 'fresh' or a 'positive' review"
   ]
  },
  {
   "cell_type": "markdown",
   "metadata": {},
   "source": [
    "# TF-IDF Weighting for Term Importance\n",
    "\n",
    "TF-IDF stands for \n",
    "\n",
    "`Term-Frequency X Inverse Document Frequency`.\n",
    "\n",
    "In the standard `CountVectorizer` model above, we used just the term frequency in a document of words in our vocabulary. In TF-IDF, we weight this term frequency by the inverse of its popularity in all documents. For example, if the word \"movie\" showed up in all the documents, it would not have much predictive value. It could actually be considered a stopword. By weighing its counts by 1 divided by its overall frequency, we downweight it. We can then use this TF-IDF weighted features as inputs to any classifier. **TF-IDF is essentially a measure of term importance, and of how discriminative a word is in a corpus.** There are a variety of nuances involved in computing TF-IDF, mainly involving where to add the smoothing term to avoid division by 0, or log of 0 errors. The formula for TF-IDF in `scikit-learn` differs from that of most textbooks: \n",
    "\n",
    "$$\\mbox{TF-IDF}(t, d) = \\mbox{TF}(t, d)\\times \\mbox{IDF}(t) = n_{td} \\log{\\left( \\frac{\\vert D \\vert}{\\vert d : t \\in d \\vert} + 1 \\right)}$$\n",
    "\n",
    "where $n_{td}$ is the number of times term $t$ occurs in document $d$, $\\vert D \\vert$ is the number of documents, and $\\vert d : t \\in d \\vert$ is the number of documents that contain $t$"
   ]
  },
  {
   "cell_type": "code",
   "execution_count": 18,
   "metadata": {
    "ExecuteTime": {
     "end_time": "2019-02-18T04:55:31.931584Z",
     "start_time": "2019-02-18T04:55:31.908524Z"
    }
   },
   "outputs": [],
   "source": [
    "# http://scikit-learn.org/dev/modules/feature_extraction.html#text-feature-extraction\n",
    "# http://scikit-learn.org/dev/modules/classes.html#text-feature-extraction-ref\n",
    "from sklearn.feature_extraction.text import TfidfVectorizer\n",
    "from sklearn.naive_bayes import MultinomialNB\n",
    "from sklearn.metrics import confusion_matrix"
   ]
  },
  {
   "cell_type": "markdown",
   "metadata": {},
   "source": [
    "**Hyperparameter Tuning**"
   ]
  },
  {
   "cell_type": "code",
   "execution_count": 19,
   "metadata": {
    "ExecuteTime": {
     "end_time": "2019-02-18T04:56:18.063282Z",
     "start_time": "2019-02-18T04:55:31.941610Z"
    }
   },
   "outputs": [
    {
     "name": "stdout",
     "output_type": "stream",
     "text": [
      "min_df: 5, max_df: 0.20, alpha: 1, score: -543.22\n"
     ]
    }
   ],
   "source": [
    "#Hyperparameter Tuning for TD-IDF + Naive Bayes\n",
    "alphas = [1, 2, 3, 4, 5]\n",
    "min_dfs = [1, 2, 3, 4, 5]\n",
    "max_dfs = [0.2, 0.3, 0.4, 0.5]\n",
    "\n",
    "best_min_df, best_max_df, best_alpha = None, None, None\n",
    "maxscore=-np.inf\n",
    "for min_df in min_dfs:\n",
    "    for alpha in alphas:\n",
    "        for max_df in max_dfs:\n",
    "            tfidfvectorizer = TfidfVectorizer(min_df=min_df, max_df = max_df, stop_words='english') \n",
    "            Xthis, ythis = make_xy(critics, tfidfvectorizer)\n",
    "            Xtrainthis = Xthis[mask]\n",
    "            ytrainthis = ythis[mask]\n",
    "            classifier = MultinomialNB(alpha=alpha)\n",
    "            score = cv_score(classifier, Xtrainthis, ytrainthis, log_likelihood)\n",
    "            (best_min_df, best_max_df, best_alpha, maxscore) = (min_df, max_df, alpha, score) if score>maxscore else (best_min_df, best_max_df, best_alpha, maxscore)\n",
    "        \n",
    "print(\"min_df: {0:d}, max_df: {1:.2f}, alpha: {2:d}, score: {3:.2f}\".format(best_min_df, best_max_df, best_alpha, maxscore))"
   ]
  },
  {
   "cell_type": "markdown",
   "metadata": {},
   "source": [
    "**Model Building**"
   ]
  },
  {
   "cell_type": "code",
   "execution_count": 20,
   "metadata": {
    "ExecuteTime": {
     "end_time": "2019-02-18T04:56:18.698439Z",
     "start_time": "2019-02-18T04:56:18.066290Z"
    }
   },
   "outputs": [
    {
     "name": "stdout",
     "output_type": "stream",
     "text": [
      "TD-IDF Vectorizer + Naive Bayes Classifier\n",
      "--------------------------------------------\n",
      "Accuracy on training data: 0.87\n",
      "Accuracy on test data:     0.71\n",
      "\n",
      "Confusion Matrix: \n",
      "[[1587 2642]\n",
      " [ 476 6187]]\n"
     ]
    }
   ],
   "source": [
    "best_min_df, best_max_df, best_alpha = 5, 0.2, 1 # Obtained from the above hyperparameter tuning\n",
    "\n",
    "tfidfvectorizer = TfidfVectorizer(min_df=best_min_df, max_df = best_max_df, stop_words='english') \n",
    "X, y = make_xy(critics, tfidfvectorizer)\n",
    "xtrain=X[mask]\n",
    "ytrain=y[mask]\n",
    "xtest=X[~mask]\n",
    "ytest=y[~mask]\n",
    "\n",
    "clf = MultinomialNB(alpha=best_alpha).fit(xtrain, ytrain)\n",
    "\n",
    "training_accuracy = clf.score(xtrain, ytrain)\n",
    "test_accuracy = clf.score(xtest, ytest)\n",
    "\n",
    "\n",
    "print('TD-IDF Vectorizer + Naive Bayes Classifier')\n",
    "print('--------------------------------------------')\n",
    "print(\"Accuracy on training data: {:.2f}\".format(training_accuracy))\n",
    "print(\"Accuracy on test data:     {:.2f}\".format(test_accuracy))\n",
    "print('\\nConfusion Matrix: ')\n",
    "print(confusion_matrix(ytest, clf.predict(xtest)))"
   ]
  },
  {
   "cell_type": "markdown",
   "metadata": {},
   "source": [
    "# N-gram Naive Bayes Model\n",
    "\n",
    "Here, we build a Vectorizer model with features to include 2-word and 3-words. This is useful because \"not good\" and \"so good\" mean very different things. "
   ]
  },
  {
   "cell_type": "markdown",
   "metadata": {},
   "source": [
    "**Hyperparameter Tuning**"
   ]
  },
  {
   "cell_type": "code",
   "execution_count": 21,
   "metadata": {
    "ExecuteTime": {
     "end_time": "2019-02-18T04:59:59.672128Z",
     "start_time": "2019-02-18T04:56:18.698439Z"
    }
   },
   "outputs": [
    {
     "name": "stdout",
     "output_type": "stream",
     "text": [
      "2-gram: min_df: 10, max_df: 0.01, alpha: 10, score: -543.51\n",
      "3-gram: min_df: 10, max_df: 0.01, alpha: 10, score: -543.51\n"
     ]
    }
   ],
   "source": [
    "#Hyperparameter Tuning for N-Gram Model\n",
    "alphas = [1, 5, 10, 20]\n",
    "min_dfs = [1, 10, 20, 50]\n",
    "max_dfs = [0.01, 0.05, 0.1]\n",
    "\n",
    "ngram_list = [2, 3]\n",
    "best_min_df, best_max_df, best_alpha = None, None, None\n",
    "maxscore=-np.inf\n",
    "for ngram in ngram_list:\n",
    "    for min_df in min_dfs:\n",
    "        for alpha in alphas:\n",
    "            for max_df in max_dfs:\n",
    "                vectorizer = CountVectorizer(ngram_range=(1, ngram), min_df=min_df, max_df = max_df) \n",
    "                Xthis, ythis = make_xy(critics, vectorizer)\n",
    "                Xtrainthis = Xthis[mask]\n",
    "                ytrainthis = ythis[mask]\n",
    "                classifier = MultinomialNB(alpha=alpha)\n",
    "                score = cv_score(classifier, Xtrainthis, ytrainthis, log_likelihood)\n",
    "                (best_min_df, best_max_df, best_alpha, maxscore) = (min_df, max_df, alpha, score) if score>maxscore else (best_min_df, best_max_df, best_alpha, maxscore)\n",
    "\n",
    "    print(\"{0:d}-gram: min_df: {1:d}, max_df: {2:.2f}, alpha: {3:d}, score: {4:.2f}\".format(ngram, best_min_df, best_max_df, best_alpha, maxscore))"
   ]
  },
  {
   "cell_type": "markdown",
   "metadata": {},
   "source": [
    "**Model Building**"
   ]
  },
  {
   "cell_type": "code",
   "execution_count": 22,
   "metadata": {
    "ExecuteTime": {
     "end_time": "2019-02-18T05:00:07.060021Z",
     "start_time": "2019-02-18T04:59:59.677141Z"
    }
   },
   "outputs": [
    {
     "name": "stdout",
     "output_type": "stream",
     "text": [
      "2-gram CountVectorizer + Naive Bayes Classifier\n",
      "-----------------------------------------------------\n",
      "2-gram Classifier: Accuracy on training data: 0.85\n",
      "2-gram Classifier: Accuracy on test data:     0.71\n",
      "\n",
      "2-gram Freshness probability of the new Review: 0.9351\n",
      "\n",
      "2-gram Good words\t     P(fresh | word)\n",
      "              brings 0.81\n",
      "         masterpiece 0.81\n",
      "           effective 0.80\n",
      "               gives 0.80\n",
      "           enjoyable 0.80\n",
      "2-gram Bad words\t     P(fresh | word)\n",
      "               fails 0.38\n",
      "               feels 0.38\n",
      "                dull 0.38\n",
      "             problem 0.37\n",
      "       unfortunately 0.33\n",
      "\n",
      "\n",
      "\n",
      "3-gram CountVectorizer + Naive Bayes Classifier\n",
      "-----------------------------------------------------\n",
      "3-gram Classifier: Accuracy on training data: 0.85\n",
      "3-gram Classifier: Accuracy on test data:     0.71\n",
      "\n",
      "3-gram Freshness probability of the new Review: 0.9136\n",
      "\n",
      "3-gram Good words\t     P(fresh | word)\n",
      "         masterpiece 0.81\n",
      "              brings 0.81\n",
      "               gives 0.80\n",
      "           effective 0.80\n",
      "           enjoyable 0.80\n",
      "3-gram Bad words\t     P(fresh | word)\n",
      "               fails 0.39\n",
      "               feels 0.38\n",
      "                dull 0.38\n",
      "             problem 0.37\n",
      "       unfortunately 0.33\n",
      "\n",
      "\n",
      "\n"
     ]
    }
   ],
   "source": [
    "## n-gram model \n",
    "ngram_list = [2, 3]\n",
    "best_min_df, best_max_df, best_alpha = [10, 10], [0.01, 0.01], [10, 10] # Obtained from the above hyperparameter tuning\n",
    "\n",
    "for ngram, min_df, max_df, alpha in zip(ngram_list, best_min_df, best_max_df, best_alpha):\n",
    "    vec_ngram = CountVectorizer(ngram_range=(1, ngram), min_df=min_df, max_df = max_df)\n",
    "    X, y = make_xy(critics, vec_ngram)\n",
    "\n",
    "    xtrain=X[mask]\n",
    "    ytrain=y[mask]\n",
    "    xtest=X[~mask]\n",
    "    ytest=y[~mask]\n",
    "\n",
    "    clf = MultinomialNB(alpha=alpha).fit(xtrain, ytrain)\n",
    "\n",
    "    training_accuracy = clf.score(xtrain, ytrain)\n",
    "    test_accuracy = clf.score(xtest, ytest)\n",
    "    \n",
    "    print('{0:d}-gram CountVectorizer + Naive Bayes Classifier'.format(ngram))\n",
    "    print('-----------------------------------------------------')\n",
    "    print(\"{0:d}-gram Classifier: Accuracy on training data: {1:.2f}\".format(ngram, training_accuracy))\n",
    "    print(\"{0:d}-gram Classifier: Accuracy on test data:     {1:.2f}\".format(ngram, test_accuracy))\n",
    "    \n",
    "    sentence = ['This movie is not remarkable, touching or superb in any way']\n",
    "    prob_new_review = clf.predict_proba(vec_ngram.transform(sentence))\n",
    "    print('\\n{0:d}-gram Freshness probability of the new Review: {1:.4f}'.format(ngram, prob_new_review[0, 1]))\n",
    "\n",
    "    # Top feature for 2-gram classifier\n",
    "    words = np.array(vec_ngram.get_feature_names())\n",
    "    x = np.eye(xtest.shape[1])\n",
    "    probs = clf.predict_log_proba(x)[:, 0]\n",
    "    ind = np.argsort(probs)\n",
    "\n",
    "    good_words = words[ind[:5]]\n",
    "    bad_words = words[ind[-5:]]\n",
    "\n",
    "    good_prob = probs[ind[:5]]\n",
    "    bad_prob = probs[ind[-5:]]\n",
    "\n",
    "    print(\"\\n{}-gram Good words\\t     P(fresh | word)\".format(ngram))\n",
    "    for w, p in zip(good_words, good_prob):\n",
    "        print(\"{:>20}\".format(w), \"{:.2f}\".format(1 - np.exp(p)))\n",
    "\n",
    "    print(\"{}-gram Bad words\\t     P(fresh | word)\".format(ngram))\n",
    "    for w, p in zip(bad_words, bad_prob):\n",
    "        print(\"{:>20}\".format(w), \"{:.2f}\".format(1 - np.exp(p)))\n",
    "    print(\"\\n\\n\")"
   ]
  },
  {
   "cell_type": "markdown",
   "metadata": {},
   "source": [
    "**Observations**  \n",
    "* 2-gram and 3-gram classifiers seems to have poorer accuracy compared to one-gram. Most of the top features are in fact single words. As n increases, the model does not scale well since the feature set becomes more sparse.\n",
    "* It doesnt seem to do a better job in predicting the freshness of the new review, either. "
   ]
  },
  {
   "cell_type": "markdown",
   "metadata": {},
   "source": [
    "# Random Forest Classifer\n",
    "\n",
    "Here we use a different model (instead of Naive Bayes). Random Forest Classifier is a tree-based classifier and would allow for interactions between words. "
   ]
  },
  {
   "cell_type": "code",
   "execution_count": 23,
   "metadata": {
    "ExecuteTime": {
     "end_time": "2019-02-18T05:00:11.687770Z",
     "start_time": "2019-02-18T05:00:11.683758Z"
    }
   },
   "outputs": [],
   "source": [
    "from sklearn.ensemble import RandomForestClassifier\n",
    "from sklearn.metrics import confusion_matrix"
   ]
  },
  {
   "cell_type": "code",
   "execution_count": 42,
   "metadata": {
    "ExecuteTime": {
     "end_time": "2019-02-18T05:38:52.059620Z",
     "start_time": "2019-02-18T05:38:51.564511Z"
    }
   },
   "outputs": [],
   "source": [
    "#the grid of parameters to search over\n",
    "min_dfs = [5]\n",
    "max_dfs = [0.2]\n",
    "n_estimator, max_feature = 500, 'sqrt'\n",
    "\n",
    "vectorizer = CountVectorizer(min_df=min_df, max_df = max_df)       \n",
    "Xthis, ythis = make_xy(critics, vectorizer)\n",
    "Xtrainthis = Xthis[mask]\n",
    "ytrainthis = ythis[mask]\n",
    "\n",
    "#max_depths = [40, 50, 60]\n",
    "#best_max_depths = None\n",
    "#maxscore=-np.inf\n",
    "#for max_depth in max_depths:\n",
    "#    classifier = RandomForestClassifier(max_depth=max_depth, n_estimators=n_estimator, max_features=max_feature)\n",
    "#    score = cv_score(classifier, Xtrainthis, ytrainthis, log_likelihood)\n",
    "#    (best_max_depths, maxscore) = (max_depth, score) if score>maxscore else (best_max_depths, maxscore)\n",
    "        \n",
    "#max_depths = 60\n",
    "#min_samples_leafs = [1, 5, 10]\n",
    "#best_min_samples_leaf = None\n",
    "#maxscore=-np.inf\n",
    "#for min_samples_leaf in min_samples_leafs:\n",
    "#    classifier = RandomForestClassifier(min_samples_leaf=min_samples_leaf, max_depth=max_depth, n_estimators=n_estimator, max_features=max_feature)\n",
    "#    score = cv_score(classifier, Xtrainthis, ytrainthis, log_likelihood)\n",
    "#    (best_min_samples_leaf, maxscore) = (min_samples_leaf, score) if score>maxscore else (best_min_samples_leaf, maxscore)\n",
    "    \n",
    "#print(\"max_depth: {0:d}, min_samples_leaf: {1:d}, score: {2:.2f}\".format(max_depths, best_min_samples_leaf, maxscore))"
   ]
  },
  {
   "cell_type": "code",
   "execution_count": 44,
   "metadata": {
    "ExecuteTime": {
     "end_time": "2019-02-18T05:39:43.104646Z",
     "start_time": "2019-02-18T05:39:20.766708Z"
    },
    "scrolled": true
   },
   "outputs": [
    {
     "name": "stdout",
     "output_type": "stream",
     "text": [
      "CountVectorizer + Random Forest Classifier\n",
      "--------------------------------------------\n",
      "Accuracy on training data: 0.88\n",
      "Accuracy on test data:     0.67\n",
      "\n",
      "Freshness probability of the new Review: 0.6036\n",
      "\n",
      "Confusion Matrix: \n",
      "[[1066 3163]\n",
      " [ 442 6221]]\n"
     ]
    }
   ],
   "source": [
    "\n",
    "# Using the best values obtained from the above hyperparameter tuning\n",
    "best_min_df, best_max_df, best_n_estimator = 5, 0.2, 500 # Obtained from the above hyperparameter tuning\n",
    "best_max_depth, best_min_samples_leaf = 60, 1\n",
    "\n",
    "vectorizer = CountVectorizer(min_df=best_min_df, max_df=best_max_df)\n",
    "X, y = make_xy(critics, vectorizer)\n",
    "xtrain=X[mask]\n",
    "ytrain=y[mask]\n",
    "xtest=X[~mask]\n",
    "ytest=y[~mask]\n",
    "\n",
    "clf = RandomForestClassifier(n_estimators=n_estimator, max_features='sqrt', max_depth=best_max_depth, min_samples_leaf=best_min_samples_leaf).fit(xtrain, ytrain)\n",
    "\n",
    "training_accuracy = clf.score(xtrain, ytrain)\n",
    "test_accuracy = clf.score(xtest, ytest)\n",
    "\n",
    "print('CountVectorizer + Random Forest Classifier')\n",
    "print('--------------------------------------------')\n",
    "print(\"Accuracy on training data: {:.2f}\".format(training_accuracy))\n",
    "print(\"Accuracy on test data:     {:.2f}\".format(test_accuracy))\n",
    "\n",
    "sentence = ['This movie is not remarkable, touching or superb in any way']\n",
    "prob_new_review = clf.predict_proba(vectorizer.transform(sentence))\n",
    "print('\\nFreshness probability of the new Review: {0:.4f}'.format(prob_new_review[0, 1]))\n",
    "    \n",
    "print('\\nConfusion Matrix: ')\n",
    "print(confusion_matrix(ytest, clf.predict(xtest)))"
   ]
  },
  {
   "cell_type": "markdown",
   "metadata": {},
   "source": [
    "# Other Ideas for Future\n",
    "\n",
    "<p>\n",
    "There are several additional things we could try. \n",
    "<ol>\n",
    "<li> Try a model besides Naive Bayes, one that would allow for interactions between words -- for example, a Random Forest classifier.\n",
    "<li> Try adding supplemental features -- information about genre, director, cast, etc.\n",
    "<li> Use word2vec or [Latent Dirichlet Allocation](https://en.wikipedia.org/wiki/Latent_Dirichlet_allocation) to group words into topics and use those topics for prediction.\n",
    "</ol>\n",
    "</p>\n",
    "\n"
   ]
  }
 ],
 "metadata": {
  "kernelspec": {
   "display_name": "Python 3",
   "language": "python",
   "name": "python3"
  },
  "language_info": {
   "codemirror_mode": {
    "name": "ipython",
    "version": 3
   },
   "file_extension": ".py",
   "mimetype": "text/x-python",
   "name": "python",
   "nbconvert_exporter": "python",
   "pygments_lexer": "ipython3",
   "version": "3.7.0"
  },
  "toc": {
   "base_numbering": 1,
   "nav_menu": {},
   "number_sections": true,
   "sideBar": true,
   "skip_h1_title": false,
   "title_cell": "Table of Contents",
   "title_sidebar": "Contents",
   "toc_cell": false,
   "toc_position": {
    "height": "calc(100% - 180px)",
    "left": "10px",
    "top": "150px",
    "width": "336px"
   },
   "toc_section_display": true,
   "toc_window_display": true
  }
 },
 "nbformat": 4,
 "nbformat_minor": 1
}
